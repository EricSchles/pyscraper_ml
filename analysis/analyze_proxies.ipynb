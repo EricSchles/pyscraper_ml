{
 "cells": [
  {
   "cell_type": "code",
   "execution_count": 5,
   "metadata": {},
   "outputs": [],
   "source": [
    "from lxml.html import fromstring\n",
    "import requests\n",
    "from itertools import cycle\n",
    "import traceback\n",
    "import random\n",
    "import time\n",
    "\n",
    "def get_proxies():\n",
    "    url = 'https://free-proxy-list.net/'\n",
    "    response = requests.get(url)\n",
    "    parser = fromstring(response.text)\n",
    "    proxies = set()\n",
    "    for i in parser.xpath('//tbody/tr')[:10]:\n",
    "        if i.xpath('.//td[7][contains(text(),\"yes\")]'):\n",
    "            proxy = \":\".join([i.xpath('.//td[1]/text()')[0], i.xpath('.//td[2]/text()')[0]])\n",
    "            proxies.add(proxy)\n",
    "    return proxies\n",
    "\n",
    "def get_random_proxies():\n",
    "    proxies = []\n",
    "    ports = [\"80\", \"8080\", \"3128\"]\n",
    "    for _ in range(10):\n",
    "        ip = f\"{random.randint(1,255)}.{random.randint(1,255)}.{random.randint(1,255)}.{random.randint(1,255)}\"\n",
    "        for port in ports:\n",
    "            proxies.append(ip + \":\" + port)\n",
    "    return set(proxies)\n",
    "\n",
    "#If you are copy pasting proxy ips, put in the list below\n",
    "#proxies = ['121.129.127.209:80', '124.41.215.238:45169', '185.93.3.123:8080', '194.182.64.67:3128', '106.0.38.174:8080', '163.172.175.210:3128', '13.92.196.150:8080']\n",
    "def get_working_proxies():\n",
    "    working_proxies = []\n",
    "    proxies = get_proxies()\n",
    "    proxy_pool = cycle(proxies)\n",
    "\n",
    "    url = 'https://httpbin.org/ip'\n",
    "    for i in range(len(proxies)):\n",
    "        #Get a proxy from the pool\n",
    "        proxy = next(proxy_pool)\n",
    "        try:\n",
    "            response = requests.get(url, proxies={\"http\": proxy, \"https\": proxy})\n",
    "            working_proxies.append(proxy)\n",
    "        except:\n",
    "            #Most free proxies will often get connection errors. You will have retry the entire request using another proxy to work. \n",
    "            #We will just skip retries as its beyond the scope of this tutorial and we are only downloading a single url \n",
    "            pass\n",
    "    return working_proxies\n",
    "\n",
    "working_proxies = []\n",
    "for _ in range(15):\n",
    "    working_proxies += get_working_proxies()\n",
    "    time.sleep(60 * 5)"
   ]
  },
  {
   "cell_type": "code",
   "execution_count": 3,
   "metadata": {},
   "outputs": [
    {
     "data": {
      "text/plain": [
       "['200.198.55.190:8080',\n",
       " '161.202.226.194:80',\n",
       " '165.225.77.46:8800',\n",
       " '66.97.120.114:3128']"
      ]
     },
     "execution_count": 3,
     "metadata": {},
     "output_type": "execute_result"
    }
   ],
   "source": [
    "first_part = []\n",
    "for proxy in working_proxies:\n",
    "    first_part.append(proxy.split(\".\")[0])\n",
    "set(first_part)"
   ]
  },
  {
   "cell_type": "code",
   "execution_count": 8,
   "metadata": {},
   "outputs": [
    {
     "data": {
      "text/plain": [
       "{'31398': 1,\n",
       " '43337': 1,\n",
       " '3128': 16,\n",
       " '8080': 9,\n",
       " '23500': 1,\n",
       " '47398': 1,\n",
       " '35301': 2,\n",
       " '30093': 2,\n",
       " '80': 1,\n",
       " '8800': 1,\n",
       " '8118': 1,\n",
       " '43112': 1,\n",
       " '443': 1,\n",
       " '9300': 1,\n",
       " '9443': 2,\n",
       " '10303': 1}"
      ]
     },
     "execution_count": 8,
     "metadata": {},
     "output_type": "execute_result"
    }
   ],
   "source": [
    "first_part = []\n",
    "for proxy in working_proxies:\n",
    "    first_part.append(proxy.split(\":\")[1])\n",
    "keys = {}.fromkeys(list(set(first_part)), 0)\n",
    "for i in first_part:\n",
    "    keys[i] += 1\n",
    "    \n",
    "keys"
   ]
  },
  {
   "cell_type": "code",
   "execution_count": 9,
   "metadata": {},
   "outputs": [
    {
     "data": {
      "text/plain": [
       "{'47': 1,\n",
       " '49': 1,\n",
       " '122': 1,\n",
       " '167': 4,\n",
       " '200': 4,\n",
       " '202': 2,\n",
       " '51': 1,\n",
       " '103': 2,\n",
       " '13': 1,\n",
       " '160': 4,\n",
       " '91': 1,\n",
       " '161': 1,\n",
       " '140': 1,\n",
       " '20': 1,\n",
       " '159': 1,\n",
       " '1': 1,\n",
       " '46': 1,\n",
       " '18': 2,\n",
       " '41': 1,\n",
       " '189': 1,\n",
       " '117': 1,\n",
       " '3': 1,\n",
       " '15': 2,\n",
       " '175': 1,\n",
       " '165': 3,\n",
       " '128': 2}"
      ]
     },
     "execution_count": 9,
     "metadata": {},
     "output_type": "execute_result"
    }
   ],
   "source": [
    "first_part = []\n",
    "for proxy in working_proxies:\n",
    "    first_part.append(proxy.split(\".\")[0])\n",
    "keys = {}.fromkeys(list(set(first_part)), 0)\n",
    "for i in first_part:\n",
    "    keys[i] += 1\n",
    "    \n",
    "keys"
   ]
  },
  {
   "cell_type": "code",
   "execution_count": null,
   "metadata": {},
   "outputs": [],
   "source": []
  }
 ],
 "metadata": {
  "kernelspec": {
   "display_name": "Python 3",
   "language": "python",
   "name": "python3"
  },
  "language_info": {
   "codemirror_mode": {
    "name": "ipython",
    "version": 3
   },
   "file_extension": ".py",
   "mimetype": "text/x-python",
   "name": "python",
   "nbconvert_exporter": "python",
   "pygments_lexer": "ipython3",
   "version": "3.7.10"
  }
 },
 "nbformat": 4,
 "nbformat_minor": 4
}
